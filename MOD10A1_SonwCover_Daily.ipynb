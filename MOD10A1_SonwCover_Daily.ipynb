{
  "nbformat": 4,
  "nbformat_minor": 0,
  "metadata": {
    "colab": {
      "provenance": []
    },
    "kernelspec": {
      "name": "python3",
      "display_name": "Python 3"
    },
    "language_info": {
      "name": "python"
    }
  },
  "cells": [
    {
      "cell_type": "code",
      "execution_count": null,
      "metadata": {
        "id": "R3Cl7FRUGql6"
      },
      "outputs": [],
      "source": [
        "#Import earth engine\n",
        "import ee\n",
        "\n",
        "#Trigger the authentication flow\n",
        "ee.Authenticate()\n",
        "\n",
        "#Initialize the library\n",
        "ee.Initialize(project='modis-410817')"
      ]
    },
    {
      "cell_type": "code",
      "source": [
        "# Import geemap\n",
        "import geemap as emap"
      ],
      "metadata": {
        "id": "TioQB6jdG1IM"
      },
      "execution_count": null,
      "outputs": []
    },
    {
      "cell_type": "code",
      "source": [
        "#Install ipygee\n",
        "!pip install ipygee"
      ],
      "metadata": {
        "id": "cDWXKJy_G2m3"
      },
      "execution_count": null,
      "outputs": []
    },
    {
      "cell_type": "code",
      "source": [
        "#Import ipygeepackage\n",
        "from ipygee import *"
      ],
      "metadata": {
        "id": "aGhX4RflG5HM"
      },
      "execution_count": null,
      "outputs": []
    },
    {
      "cell_type": "code",
      "source": [
        "#Create a region of interest (ROI)\n",
        "roi = ee.Geometry.Rectangle([10.97, 47.40, 11.47, 47.50]);\n",
        "\n",
        "#Load MODIS Terra Snow Cover Daily Global 500m\n",
        "imageCollection = ee.ImageCollection(\"MODIS/061/MOD10A1\").select('NDSI_Snow_Cover');\n",
        "\n",
        "#Filter the image collection for the specified date ranges and region of interest\n",
        "filteredCollection = imageCollection \\\n",
        "  .filter(ee.Filter.calendarRange(2001, 2002, 'year')) \\\n",
        "  .filter(ee.Filter.Or(\n",
        "    ee.Filter.calendarRange(1, 3, 'month'),\n",
        "    ee.Filter.calendarRange(10, 12, 'month')\n",
        "  )) \\\n",
        "  .filterBounds(roi)"
      ],
      "metadata": {
        "id": "pyU4C4hGG9L6"
      },
      "execution_count": null,
      "outputs": []
    },
    {
      "cell_type": "code",
      "source": [
        "# Get the image IDs\n",
        "image_ids = filteredCollection.aggregate_array('system:index').getInfo()\n",
        "print('Total images', len(image_ids))"
      ],
      "metadata": {
        "id": "zoEeSh41G97A"
      },
      "execution_count": null,
      "outputs": []
    },
    {
      "cell_type": "code",
      "source": [
        "#Visualization parameters\n",
        "snow_cover_vis = {\n",
        "    'min': 0.0,\n",
        "    'max': 100.0,\n",
        "    'palette': ['black', '0dffff', '0524ff', 'ffffff']\n",
        "}"
      ],
      "metadata": {
        "id": "TkKt3hBgHVLF"
      },
      "execution_count": null,
      "outputs": []
    },
    {
      "cell_type": "code",
      "source": [
        "# Get a list of images\n",
        "image_list = filteredCollection.toList(filteredCollection.size())\n",
        "\n",
        "#Clip for displaying in map\n",
        "img = ee.Image(image_list.get(0)).clip(roi)"
      ],
      "metadata": {
        "id": "65Hu3LODUyFF"
      },
      "execution_count": null,
      "outputs": []
    },
    {
      "cell_type": "code",
      "source": [
        "#Create a center the map object\n",
        "Map = emap.Map()\n",
        "Map.center_object(roi, zoom=12)\n",
        "\n",
        "# Add the layers to the map object.\n",
        "Map.addLayer(img,snow_cover_vis,'Snow cover')\n",
        "\n",
        "# Draw the rectangle on the map\n",
        "Map.addLayer(roi, {'color': 'red'}, 'roi')\n",
        "\n",
        "#Add a layer control panel to the map\n",
        "Map.addLayerControl()\n",
        "\n",
        "#Display the map\n",
        "Map"
      ],
      "metadata": {
        "id": "L6Cwf_IpU049"
      },
      "execution_count": null,
      "outputs": []
    },
    {
      "cell_type": "code",
      "source": [
        "# Define a function to calculate the mean value for an image\n",
        "def calculate_mean(image):\n",
        "    mean = image.reduceRegion(ee.Reducer.mean(), roi).get('NDSI_Snow_Cover')\n",
        "    return image.set('mean_value', mean)\n",
        "\n",
        "# Map the function over the clipped image collection\n",
        "clipped_collection_with_mean = filteredCollection.map(calculate_mean)\n",
        "\n",
        "# Create a list of numeric IDs\n",
        "id_list = ee.List.sequence(1, clipped_collection_with_mean.size())\n",
        "\n",
        "# Convert the image collection to a feature collection with numeric IDs\n",
        "def map_function(id):\n",
        "    image = clipped_collection_with_mean.toList(clipped_collection_with_mean.size()).get(ee.Number(id).subtract(1))\n",
        "    date = ee.Date(ee.Image(image).get('system:time_start'))\n",
        "    return ee.Feature(None, {\n",
        "        'ID_Numeric': id,\n",
        "        'Date': date.format('YYYY-MM-dd'),\n",
        "        'Mean_Value': ee.Image(image).get('mean_value')\n",
        "    })\n",
        "\n",
        "feature_collection = ee.FeatureCollection(id_list.map(map_function))\n",
        "\n",
        "# Export the feature collection to a CSV file\n",
        "task = ee.batch.Export.table.toDrive(\n",
        "    collection=feature_collection,\n",
        "    description='exported_data',\n",
        "    folder='your_folder_name120',\n",
        "    fileNamePrefix='exported_data',\n",
        "    fileFormat='CSV'\n",
        ")\n",
        "\n",
        "# Start the export task\n",
        "task.start()"
      ],
      "metadata": {
        "id": "xnHGQGosU5OW"
      },
      "execution_count": null,
      "outputs": []
    },
    {
      "cell_type": "code",
      "source": [
        "# Loop through the images\n",
        "for i in range(image_list.length().getInfo()):\n",
        "    img = ee.Image(image_list.get(i))\n",
        "\n",
        "    # Cast all bands to Int16\n",
        "    img = img.toUint16()\n",
        "\n",
        "    # Define the export parameters\n",
        "    export_params = {\n",
        "        'image': img.select('NDSI_Snow_Cover'), #'image': img,\n",
        "        'description': 'Image Export {}'.format(i + 1),\n",
        "        'fileNamePrefix': img.id().getInfo(),\n",
        "        'folder': 'Snow_Cover_M09_50',\n",
        "        'scale': 500,\n",
        "        'region': roi.getInfo()['coordinates'],\n",
        "        'crs': 'EPSG:4326',\n",
        "        'maxPixels': 1e10\n",
        "    }\n",
        "\n",
        "    # Start the export task\n",
        "    task = ee.batch.Export.image.toDrive(**export_params)\n",
        "    task.start()\n",
        "\n",
        "    print('Started task: ', i + 1)"
      ],
      "metadata": {
        "id": "eT8ZBgqIVACZ"
      },
      "execution_count": null,
      "outputs": []
    },
    {
      "cell_type": "code",
      "source": [
        "##To check if any data has zero snow cover value\n",
        "# Create a time series chart\n",
        "ts_sum = chart.Image.series(**{\n",
        "    'imageCollection': filteredCollection,\n",
        "    'region':roi,\n",
        "    'reducer':ee.Reducer.sum(),\n",
        "    'scale':500,\n",
        "   })\n",
        "\n",
        "# Print the chart\n",
        "ts_sum.renderWidget(width='1500px', height='500px')"
      ],
      "metadata": {
        "id": "S5c-IxhiVPFD"
      },
      "execution_count": null,
      "outputs": []
    },
    {
      "cell_type": "code",
      "source": [
        "ts_sum.dataframe"
      ],
      "metadata": {
        "id": "MBij77MqVQiv"
      },
      "execution_count": null,
      "outputs": []
    },
    {
      "cell_type": "code",
      "source": [
        "# Create a time series chart\n",
        "ts_mean = chart.Image.series(**{\n",
        "    'imageCollection': filteredCollection,\n",
        "    'region':roi,\n",
        "    'reducer':ee.Reducer.mean(),\n",
        "    'scale':500\n",
        "    })\n",
        "\n",
        "# Print the chart\n",
        "ts_mean.renderWidget(width='1500px', height='500px')"
      ],
      "metadata": {
        "id": "d32i58S3VRSE"
      },
      "execution_count": null,
      "outputs": []
    },
    {
      "cell_type": "code",
      "source": [
        "ts_mean.dataframe"
      ],
      "metadata": {
        "id": "32efZHJeVTLf"
      },
      "execution_count": null,
      "outputs": []
    }
  ]
}